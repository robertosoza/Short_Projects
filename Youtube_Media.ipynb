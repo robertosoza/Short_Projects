{
  "nbformat": 4,
  "nbformat_minor": 0,
  "metadata": {
    "colab": {
      "provenance": []
    },
    "kernelspec": {
      "name": "python3",
      "display_name": "Python 3"
    },
    "language_info": {
      "name": "python"
    }
  },
  "cells": [
    {
      "cell_type": "code",
      "execution_count": null,
      "metadata": {
        "id": "CQuhnTVallBF"
      },
      "outputs": [],
      "source": [
        "pip install yt-dlp"
      ]
    },
    {
      "cell_type": "code",
      "source": [
        "import yt_dlp"
      ],
      "metadata": {
        "id": "McmgTau_lshJ"
      },
      "execution_count": null,
      "outputs": []
    },
    {
      "cell_type": "code",
      "source": [
        "url=input('Enter a Video to Download:')\n",
        "ydl_opts = {}\n",
        "with yt_dlp.YoutubeDL(ydl_opts) as ydl:\n",
        "    ydl.download([url])\n",
        "print(\"Video downloaded successfully!\")"
      ],
      "metadata": {
        "id": "c50hmhCLlt-Y"
      },
      "execution_count": null,
      "outputs": []
    },
    {
      "cell_type": "code",
      "source": [
        "from pytube import YouTube\n",
        "\n",
        "url = input('Enter a Video to Download Audio:')\n",
        "\n",
        "yt = YouTube(url)\n",
        "\n",
        "# Filter audio streams and download the first one\n",
        "\n",
        "audio_stream = yt.streams.filter(only_audio=True).first()\n",
        "\n",
        "audio_stream.download()\n",
        "\n",
        "print(\"Audio downloaded successfully!\")"
      ],
      "metadata": {
        "id": "GM-olrgRlxCn"
      },
      "execution_count": null,
      "outputs": []
    }
  ]
}